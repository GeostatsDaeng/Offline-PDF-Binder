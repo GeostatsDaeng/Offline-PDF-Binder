{
 "cells": [
  {
   "cell_type": "code",
   "execution_count": 1,
   "metadata": {},
   "outputs": [
    {
     "name": "stdout",
     "output_type": "stream",
     "text": [
      "Collecting PyPDF2\n",
      "  Downloading pypdf2-3.0.1-py3-none-any.whl (232 kB)\n",
      "     -------------------------------------- 232.6/232.6 kB 1.2 MB/s eta 0:00:00\n",
      "Requirement already satisfied: typing_extensions>=3.10.0.0 in c:\\users\\betty\\anaconda3\\lib\\site-packages (from PyPDF2) (4.3.0)\n",
      "Installing collected packages: PyPDF2\n",
      "Successfully installed PyPDF2-3.0.1\n",
      "Note: you may need to restart the kernel to use updated packages.\n"
     ]
    }
   ],
   "source": [
    "pip install PyPDF2"
   ]
  },
  {
   "cell_type": "code",
   "execution_count": 2,
   "metadata": {},
   "outputs": [],
   "source": [
    "import tkinter as tk\n",
    "from tkinter import filedialog, messagebox\n",
    "from PyPDF2 import PdfMerger\n",
    "\n",
    "def add_files():\n",
    "    files = filedialog.askopenfilenames(filetypes=[(\"PDF files\", \"*.pdf\")])\n",
    "    for file in files:\n",
    "        file_listbox.insert(tk.END, file)\n",
    "\n",
    "def remove_selected_file():\n",
    "    selected_file_index = file_listbox.curselection()\n",
    "    if selected_file_index:\n",
    "        file_listbox.delete(selected_file_index)\n",
    "\n",
    "def merge_pdfs():\n",
    "    files = file_listbox.get(0, tk.END)\n",
    "    if not files:\n",
    "        messagebox.showwarning(\"Warning\", \"Please add PDF files to merge.\")\n",
    "        return\n",
    "\n",
    "    save_path = filedialog.asksaveasfilename(defaultextension=\".pdf\", filetypes=[(\"PDF files\", \"*.pdf\")])\n",
    "    if not save_path:\n",
    "        return\n",
    "\n",
    "    merger = PdfMerger()\n",
    "    try:\n",
    "        for file in files:\n",
    "            merger.append(file)\n",
    "        merger.write(save_path)\n",
    "        merger.close()\n",
    "        messagebox.showinfo(\"Success\", \"PDF files have been merged successfully.\")\n",
    "    except Exception as e:\n",
    "        messagebox.showerror(\"Error\", f\"An error occurred: {e}\")\n",
    "\n",
    "# Setting up the GUI\n",
    "root = tk.Tk()\n",
    "root.title(\"PDF Merger\")\n",
    "\n",
    "frame = tk.Frame(root)\n",
    "frame.pack(pady=10, padx=10)\n",
    "\n",
    "file_listbox = tk.Listbox(frame, width=50, height=10)\n",
    "file_listbox.pack(side=tk.LEFT, fill=tk.BOTH, expand=True)\n",
    "\n",
    "scrollbar = tk.Scrollbar(frame, orient=tk.VERTICAL)\n",
    "scrollbar.config(command=file_listbox.yview)\n",
    "file_listbox.config(yscrollcommand=scrollbar.set)\n",
    "scrollbar.pack(side=tk.RIGHT, fill=tk.Y)\n",
    "\n",
    "button_frame = tk.Frame(root)\n",
    "button_frame.pack(pady=10)\n",
    "\n",
    "add_button = tk.Button(button_frame, text=\"Add PDF Files\", command=add_files)\n",
    "add_button.grid(row=0, column=0, padx=5)\n",
    "\n",
    "remove_button = tk.Button(button_frame, text=\"Remove Selected File\", command=remove_selected_file)\n",
    "remove_button.grid(row=0, column=1, padx=5)\n",
    "\n",
    "merge_button = tk.Button(button_frame, text=\"Merge PDFs\", command=merge_pdfs)\n",
    "merge_button.grid(row=0, column=2, padx=5)\n",
    "\n",
    "root.mainloop()"
   ]
  }
 ],
 "metadata": {
  "kernelspec": {
   "display_name": "base",
   "language": "python",
   "name": "python3"
  },
  "language_info": {
   "codemirror_mode": {
    "name": "ipython",
    "version": 3
   },
   "file_extension": ".py",
   "mimetype": "text/x-python",
   "name": "python",
   "nbconvert_exporter": "python",
   "pygments_lexer": "ipython3",
   "version": "3.9.13"
  }
 },
 "nbformat": 4,
 "nbformat_minor": 2
}
